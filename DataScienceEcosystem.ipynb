{
 "cells": [
  {
   "cell_type": "markdown",
   "metadata": {},
   "source": [
    "# Data Science Tools and Ecosystem"
   ]
  },
  {
   "cell_type": "markdown",
   "metadata": {},
   "source": [
    "#### In this notebook, Data Science Tools and Ecosystem are summarized"
   ]
  },
  {
   "cell_type": "markdown",
   "metadata": {},
   "source": [
    "# Introduction\n",
    "\n",
    "This notebook explores various aspects of data science, including tools, languages, and key concepts.\n",
    "\n",
    "## Objectives:\n",
    "\n",
    "- **List popular languages for Data Science**\n",
    "- **Explore common development environment tools**\n",
    "- **Understand basic arithmetic operations in Python**\n",
    "- **Introduce key libraries used in Data Science**\n",
    "- **Highlight the importance of data governance and stewardship**"
   ]
  },
  {
   "cell_type": "markdown",
   "metadata": {},
   "source": [
    "##### Some of the popular languages that Data Scientists use are\n",
    "##### 1. Python\n",
    "##### 2. R Language"
   ]
  },
  {
   "cell_type": "markdown",
   "metadata": {},
   "source": [
    "#### Some of the commonly used libraries used by Data Scientists include:\n",
    "\n",
    "- **NumPy**: A fundamental package for scientific computing with Python.\n",
    "- **Pandas**: A data manipulation and analysis library.\n",
    "- **Matplotlib**: A 2D plotting library for creating visualizations.\n",
    "- **Seaborn**: A statistical data visualization library based on Matplotlib.\n",
    "- **Scikit-learn**: A machine learning library that provides simple and efficient tools for data analysis and modeling.\n",
    "- **TensorFlow**: An open-source machine learning framework developed by Google.\n",
    "- **PyTorch**: An open-source deep learning framework.\n",
    "- **SciPy**: A library used for scientific and technical computing.\n",
    "- **NLTK (Natural Language Toolkit)**: A library for working with human language data.\n",
    "- **Statsmodels**: A library for estimating and testing statistical models.\n"
   ]
  },
  {
   "cell_type": "markdown",
   "metadata": {},
   "source": [
    "##### Data Science Tools\n",
    "\n",
    "| Tools                   |\n",
    "| ----------------------- |\n",
    "| Jupyter Notebooks       |\n",
    "| RStudio                 |\n",
    "| Visual Studio Code (VSCode) |\n"
   ]
  },
  {
   "cell_type": "markdown",
   "metadata": {},
   "source": [
    "### Below are a few examples of evaluating arithmetic expressions in Python"
   ]
  },
  {
   "cell_type": "markdown",
   "metadata": {},
   "source": [
    "#### This a simple arithmetic expression to mutiply then add integers"
   ]
  },
  {
   "cell_type": "code",
   "execution_count": 1,
   "metadata": {},
   "outputs": [
    {
     "data": {
      "text/plain": [
       "17"
      ]
     },
     "execution_count": 1,
     "metadata": {},
     "output_type": "execute_result"
    }
   ],
   "source": [
    "result = (3 * 4) + 5\n",
    "result"
   ]
  },
  {
   "cell_type": "markdown",
   "metadata": {},
   "source": [
    "#### This will convert 200 minutes to hours by dividing by 60."
   ]
  },
  {
   "cell_type": "code",
   "execution_count": 2,
   "metadata": {},
   "outputs": [
    {
     "data": {
      "text/plain": [
       "3.3333333333333335"
      ]
     },
     "execution_count": 2,
     "metadata": {},
     "output_type": "execute_result"
    }
   ],
   "source": [
    "\n",
    "minutes = 200\n",
    "hours = minutes / 60\n",
    "hours"
   ]
  },
  {
   "cell_type": "markdown",
   "metadata": {},
   "source": [
    "## Author\n",
    "Muhamada banu A"
   ]
  }
 ],
 "metadata": {
  "kernelspec": {
   "display_name": "Python 3",
   "language": "python",
   "name": "python3"
  },
  "language_info": {
   "codemirror_mode": {
    "name": "ipython",
    "version": 3
   },
   "file_extension": ".py",
   "mimetype": "text/x-python",
   "name": "python",
   "nbconvert_exporter": "python",
   "pygments_lexer": "ipython3",
   "version": "3.10.8"
  }
 },
 "nbformat": 4,
 "nbformat_minor": 2
}
